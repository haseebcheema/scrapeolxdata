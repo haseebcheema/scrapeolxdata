{
 "cells": [
  {
   "cell_type": "markdown",
   "id": "bbae877e",
   "metadata": {},
   "source": [
    "# Scraping olx cars data by using requests, beautiful soup and pandas!"
   ]
  },
  {
   "cell_type": "code",
   "execution_count": 1,
   "id": "244ce44d",
   "metadata": {},
   "outputs": [],
   "source": [
    "# importing packages/modules/libraries\n",
    "\n",
    "import pandas as pd\n",
    "import requests\n",
    "from bs4 import BeautifulSoup"
   ]
  },
  {
   "cell_type": "code",
   "execution_count": 2,
   "id": "c631740f",
   "metadata": {},
   "outputs": [],
   "source": [
    "# url of the webpage to be scraped\n",
    "URL = 'https://www.olx.com.pk/cars_c84'\n",
    "# defining headers to be sent to the webpage\n",
    "HEADERS = ({'User-Agent':'Mozilla/5.0 (Windows NT 10.0; Win64; x64) AppleWebKit/537.36 (KHTML, like Gecko) Chrome/115.0.0.0 Safari/537.36', 'Accept-Language':'en-US, en;q=0.5'})"
   ]
  },
  {
   "cell_type": "code",
   "execution_count": 3,
   "id": "6970ea6f",
   "metadata": {},
   "outputs": [],
   "source": [
    "# sending http get request to the webpage\n",
    "\n",
    "webpage = requests.get(URL, headers=HEADERS)"
   ]
  },
  {
   "cell_type": "code",
   "execution_count": 4,
   "id": "0293dd68",
   "metadata": {},
   "outputs": [
    {
     "data": {
      "text/plain": [
       "200"
      ]
     },
     "execution_count": 4,
     "metadata": {},
     "output_type": "execute_result"
    }
   ],
   "source": [
    "# ensuring request is successful and we go the response\n",
    "\n",
    "webpage.status_code"
   ]
  },
  {
   "cell_type": "code",
   "execution_count": 5,
   "id": "5ac9877c",
   "metadata": {},
   "outputs": [],
   "source": [
    "# get the content from the webpage, parse into html and give a structure to it using beautifulsoup\n",
    "\n",
    "soup = BeautifulSoup(webpage.content, 'html.parser')"
   ]
  },
  {
   "cell_type": "code",
   "execution_count": 6,
   "id": "0053239d",
   "metadata": {},
   "outputs": [],
   "source": [
    "# getting all div tags containing links\n",
    "\n",
    "links = soup.find_all('div', attrs={'class':'_9bea76df'})"
   ]
  },
  {
   "cell_type": "code",
   "execution_count": 7,
   "id": "7728d272",
   "metadata": {
    "scrolled": true
   },
   "outputs": [],
   "source": [
    "# getting all anchor tags containing links\n",
    "\n",
    "final_links = []\n",
    "for link in links:\n",
    "    final_links.append(link.find('a'))"
   ]
  },
  {
   "cell_type": "code",
   "execution_count": 8,
   "id": "236ca0bc",
   "metadata": {},
   "outputs": [
    {
     "data": {
      "text/plain": [
       "[<a href=\"/item/honda-civic-vti-oriel-manual-2004-model-2008-reg-iid-1076020736\" title=\"Honda Civic Vti Oriel Manual 2004 model 2008 Reg\"><div class=\"c0e6d63c\"></div></a>,\n",
       " <a href=\"/item/suzuki-alto-2010-model-iid-1075784732\" title=\"Suzuki Alto 2010 model\"><div class=\"c0e6d63c\"></div></a>,\n",
       " <a href=\"/item/nissan-moco-2017-model-iid-1074919906\" title=\"NISSAN MOCO 2017 MODEL\"><div class=\"c0e6d63c\"></div></a>,\n",
       " <a href=\"/item/cultus-euro-ii-iid-1075821624\" title=\"Cultus Euro II\"><div class=\"c0e6d63c\"></div></a>,\n",
       " <a href=\"/item/suzuki-alto-2010-iid-1075981952\" title=\"Suzuki Alto 2010\"><div class=\"c0e6d63c\"></div></a>,\n",
       " <a href=\"/item/total-geniune-iid-1076017221\" title=\"HONDA CIVIC VTI ORIEL PROSMATEC 2013\"><div class=\"c0e6d63c\"></div></a>,\n",
       " <a href=\"/item/honda-city-13-automatic-iid-1073145363\" title=\"Honda City  2005 - Automatic IDSI 1.3\"><div class=\"c0e6d63c\"></div></a>,\n",
       " <a href=\"/item/suzuki-cultus-vxr-2022-model-for-sale-iid-1075229422\" title=\"CULTUS VXR 2022 MODEL FOR SALE\"><div class=\"c0e6d63c\"></div></a>,\n",
       " <a href=\"/item/honda-city-automatic-bumper-to-bumper-original-iid-1075969196\" title=\"Honda city automatic bumper to bumper original\"><div class=\"c0e6d63c\"></div></a>,\n",
       " <a href=\"/item/suzuki-bolan-mnc-387-18-iid-1076013392\" title=\"Suzuki bolan MNC-387-18\"><div class=\"c0e6d63c\"></div></a>,\n",
       " <a href=\"/item/suzuki-mehran-vxr-2018-model-iid-1075882410\" title=\"Suzuki Mehran VXR 2018 model\"><div class=\"c0e6d63c\"></div></a>,\n",
       " <a href=\"/item/toyota-xli-for-sale-iid-1076016864\" title=\"Toyota XLI for sale\"><div class=\"c0e6d63c\"></div></a>,\n",
       " <a href=\"/item/suzuki-alto-vxl-2019-model-reg-2020-for-sale-iid-1076001515\" title=\"Suzuki ALTO VXL 2019 Model Reg 2020 For Sale\"><div class=\"c0e6d63c\"></div></a>,\n",
       " <a href=\"/item/gli-automatic-17-model-iid-1075962553\" title=\"Gli Automatic 17 model\"><div class=\"c0e6d63c\"></div></a>,\n",
       " <a href=\"/item/suzuki-cultus-2007-iid-1075740802\" title=\"Suzuki Cultus 2007\"><div class=\"c0e6d63c\"></div></a>,\n",
       " <a href=\"/item/mint-condition-toyota-vitz-push-start-f-package-10-for-sale-askari-4-iid-1075480853\" title=\"Push start Toyota Vitz 2018/21 F PACKAGE Grade 4 for Sale\"><div class=\"c0e6d63c\"></div></a>,\n",
       " <a href=\"/item/honda-city-13-auto-2018-model-iid-1074907768\" title=\"Honda City 1.3 auto 2018 Model\"><div class=\"c0e6d63c\"></div></a>,\n",
       " <a href=\"/item/suzuki-alto-2010-iid-1075152482\" title=\"Suzuki Alto 2010\"><div class=\"c0e6d63c\"></div></a>,\n",
       " <a href=\"/item/total-original-paint-iid-1075354629\" title=\"suzuki mahran vx 2012 original condtion\"><div class=\"c0e6d63c\"></div></a>,\n",
       " <a href=\"/item/toyota-corolla-gli-2015-manual-fully-original-condition-like-new-iid-1075429519\" title=\"Toyota Corolla Gli 2015 Manual Fully Original Condition Like New\"><div class=\"c0e6d63c\"></div></a>]"
      ]
     },
     "execution_count": 8,
     "metadata": {},
     "output_type": "execute_result"
    }
   ],
   "source": [
    "final_links"
   ]
  },
  {
   "cell_type": "code",
   "execution_count": 9,
   "id": "c99c5d9e",
   "metadata": {},
   "outputs": [],
   "source": [
    "# getting final lnk of first item\n",
    "\n",
    "firstlink = final_links[1].get('href')"
   ]
  },
  {
   "cell_type": "code",
   "execution_count": 25,
   "id": "5895c666",
   "metadata": {},
   "outputs": [
    {
     "data": {
      "text/plain": [
       "['/item/honda-civic-vti-oriel-manual-2004-model-2008-reg-iid-1076020736',\n",
       " '/item/suzuki-alto-2010-model-iid-1075784732',\n",
       " '/item/nissan-moco-2017-model-iid-1074919906',\n",
       " '/item/cultus-euro-ii-iid-1075821624',\n",
       " '/item/suzuki-alto-2010-iid-1075981952',\n",
       " '/item/total-geniune-iid-1076017221',\n",
       " '/item/honda-city-13-automatic-iid-1073145363',\n",
       " '/item/suzuki-cultus-vxr-2022-model-for-sale-iid-1075229422',\n",
       " '/item/honda-city-automatic-bumper-to-bumper-original-iid-1075969196',\n",
       " '/item/suzuki-bolan-mnc-387-18-iid-1076013392',\n",
       " '/item/suzuki-mehran-vxr-2018-model-iid-1075882410',\n",
       " '/item/toyota-xli-for-sale-iid-1076016864',\n",
       " '/item/suzuki-alto-vxl-2019-model-reg-2020-for-sale-iid-1076001515',\n",
       " '/item/gli-automatic-17-model-iid-1075962553',\n",
       " '/item/suzuki-cultus-2007-iid-1075740802',\n",
       " '/item/mint-condition-toyota-vitz-push-start-f-package-10-for-sale-askari-4-iid-1075480853',\n",
       " '/item/honda-city-13-auto-2018-model-iid-1074907768',\n",
       " '/item/suzuki-alto-2010-iid-1075152482',\n",
       " '/item/total-original-paint-iid-1075354629',\n",
       " '/item/toyota-corolla-gli-2015-manual-fully-original-condition-like-new-iid-1075429519']"
      ]
     },
     "execution_count": 25,
     "metadata": {},
     "output_type": "execute_result"
    }
   ],
   "source": [
    "links_list = []\n",
    "for link in final_links:\n",
    "    links_list.append(link.get('href'))\n",
    "links_list"
   ]
  },
  {
   "cell_type": "code",
   "execution_count": 10,
   "id": "519bce7d",
   "metadata": {},
   "outputs": [],
   "source": [
    "# generating new url\n",
    "\n",
    "URL = 'https://www.olx.com.pk' + firstlink"
   ]
  },
  {
   "cell_type": "code",
   "execution_count": 11,
   "id": "51d9a855",
   "metadata": {},
   "outputs": [],
   "source": [
    "# again sending get request to this new url\n",
    "\n",
    "new_webpage = requests.get(URL, headers=HEADERS)"
   ]
  },
  {
   "cell_type": "code",
   "execution_count": 12,
   "id": "6e4be02f",
   "metadata": {},
   "outputs": [
    {
     "data": {
      "text/plain": [
       "200"
      ]
     },
     "execution_count": 12,
     "metadata": {},
     "output_type": "execute_result"
    }
   ],
   "source": [
    "new_webpage.status_code"
   ]
  },
  {
   "cell_type": "code",
   "execution_count": 13,
   "id": "f75a82cc",
   "metadata": {},
   "outputs": [],
   "source": [
    "# get the content from the webpage, parse into html and give a structure to it using beautifulsoup\n",
    "\n",
    "soup = BeautifulSoup(new_webpage.content, 'html.parser')"
   ]
  },
  {
   "cell_type": "code",
   "execution_count": 28,
   "id": "9bc74a46",
   "metadata": {},
   "outputs": [],
   "source": [
    "title = soup.find('h1', attrs={'class':'a38b8112'}).string.text.strip()\n"
   ]
  },
  {
   "cell_type": "code",
   "execution_count": 29,
   "id": "bcbd58af",
   "metadata": {},
   "outputs": [
    {
     "data": {
      "text/plain": [
       "'Suzuki Alto 2010 model'"
      ]
     },
     "execution_count": 29,
     "metadata": {},
     "output_type": "execute_result"
    }
   ],
   "source": [
    "title"
   ]
  },
  {
   "cell_type": "code",
   "execution_count": 16,
   "id": "42e1dfd0",
   "metadata": {},
   "outputs": [],
   "source": [
    "data = soup.find_all('div', attrs={'class':'b44ca0b3'})"
   ]
  },
  {
   "cell_type": "code",
   "execution_count": 17,
   "id": "acd5593b",
   "metadata": {},
   "outputs": [],
   "source": [
    "new_data = []\n",
    "for d in data:\n",
    "    new_data.append(d.find_all('span'))"
   ]
  },
  {
   "cell_type": "code",
   "execution_count": 18,
   "id": "c2ac310b",
   "metadata": {},
   "outputs": [
    {
     "data": {
      "text/plain": [
       "[[<span>Make</span>, <span>Suzuki</span>],\n",
       " [<span>Model</span>, <span>Alto</span>],\n",
       " [<span>Year</span>, <span>2010</span>],\n",
       " [<span>KM's driven</span>, <span>115,000</span>],\n",
       " [<span>Price</span>, <span>2,070,000</span>],\n",
       " [<span>Fuel</span>, <span>Petrol</span>],\n",
       " [<span>Registration city</span>, <span>Islamabad</span>],\n",
       " [<span>Car documents</span>, <span>Original</span>],\n",
       " [<span>Assembly</span>, <span>Imported</span>],\n",
       " [<span>Transmission</span>, <span>Automatic</span>],\n",
       " [<span>Condition</span>, <span>Used</span>]]"
      ]
     },
     "execution_count": 18,
     "metadata": {},
     "output_type": "execute_result"
    }
   ],
   "source": [
    "new_data"
   ]
  },
  {
   "cell_type": "code",
   "execution_count": 50,
   "id": "91f7587e",
   "metadata": {},
   "outputs": [],
   "source": [
    "def append_keys_to_dict(existing_dict, sublists):\n",
    "    for sublist in sublists:\n",
    "        key = sublist[0].text\n",
    "        existing_dict[key] = []\n",
    "    return existing_dict"
   ]
  },
  {
   "cell_type": "code",
   "execution_count": null,
   "id": "c06a2543",
   "metadata": {},
   "outputs": [],
   "source": [
    "my_dict = {\"item\":\"ali\"}\n",
    "append_keys_to_dict(my_dict, new_data)"
   ]
  },
  {
   "cell_type": "code",
   "execution_count": 19,
   "id": "700a3d15",
   "metadata": {},
   "outputs": [
    {
     "data": {
      "text/plain": [
       "'Make'"
      ]
     },
     "execution_count": 19,
     "metadata": {},
     "output_type": "execute_result"
    }
   ],
   "source": [
    "new_data[0][0].text"
   ]
  },
  {
   "cell_type": "code",
   "execution_count": 20,
   "id": "157d259f",
   "metadata": {},
   "outputs": [
    {
     "data": {
      "text/plain": [
       "'Suzuki'"
      ]
     },
     "execution_count": 20,
     "metadata": {},
     "output_type": "execute_result"
    }
   ],
   "source": [
    "new_data[0][1].text"
   ]
  },
  {
   "cell_type": "code",
   "execution_count": 21,
   "id": "4ee37f8a",
   "metadata": {},
   "outputs": [],
   "source": [
    "my_dict = {}\n",
    "my_dict[new_data[0][0].text] = new_data[0][1].text"
   ]
  },
  {
   "cell_type": "code",
   "execution_count": 22,
   "id": "19942a9e",
   "metadata": {},
   "outputs": [
    {
     "data": {
      "text/plain": [
       "{'Make': 'Suzuki'}"
      ]
     },
     "execution_count": 22,
     "metadata": {},
     "output_type": "execute_result"
    }
   ],
   "source": [
    "my_dict"
   ]
  }
 ],
 "metadata": {
  "kernelspec": {
   "display_name": "Python 3 (ipykernel)",
   "language": "python",
   "name": "python3"
  },
  "language_info": {
   "codemirror_mode": {
    "name": "ipython",
    "version": 3
   },
   "file_extension": ".py",
   "mimetype": "text/x-python",
   "name": "python",
   "nbconvert_exporter": "python",
   "pygments_lexer": "ipython3",
   "version": "3.10.4"
  }
 },
 "nbformat": 4,
 "nbformat_minor": 5
}
