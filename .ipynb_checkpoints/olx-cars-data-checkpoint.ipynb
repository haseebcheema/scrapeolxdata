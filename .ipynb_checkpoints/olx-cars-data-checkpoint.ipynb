{
 "cells": [
  {
   "cell_type": "markdown",
   "id": "bbae877e",
   "metadata": {},
   "source": [
    "# Scraping olx cars data by using requests, beautiful soup and pandas!"
   ]
  },
  {
   "cell_type": "code",
   "execution_count": 4,
   "id": "244ce44d",
   "metadata": {},
   "outputs": [],
   "source": [
    "# importing packages/modules/libraries\n",
    "\n",
    "import pandas as pd\n",
    "import requests\n",
    "from bs4 import BeautifulSoup"
   ]
  },
  {
   "cell_type": "code",
   "execution_count": 14,
   "id": "c631740f",
   "metadata": {},
   "outputs": [],
   "source": [
    "# url of the webpage to be scraped\n",
    "URL = 'https://www.olx.com.pk/cars_c84'\n",
    "# defining headers to be sent to the webpage\n",
    "HEADERS = ({'User-Agent':'Mozilla/5.0 (Windows NT 10.0; Win64; x64) AppleWebKit/537.36 (KHTML, like Gecko) Chrome/115.0.0.0 Safari/537.36', 'Accept-Language':'en-US, en;q=0.5'})"
   ]
  },
  {
   "cell_type": "code",
   "execution_count": 15,
   "id": "6970ea6f",
   "metadata": {},
   "outputs": [],
   "source": [
    "# sending http get request to the webpage\n",
    "\n",
    "webpage = requests.get(URL, headers=HEADERS)"
   ]
  },
  {
   "cell_type": "code",
   "execution_count": 16,
   "id": "0293dd68",
   "metadata": {},
   "outputs": [
    {
     "data": {
      "text/plain": [
       "200"
      ]
     },
     "execution_count": 16,
     "metadata": {},
     "output_type": "execute_result"
    }
   ],
   "source": [
    "# ensuring request is successful and we go the response\n",
    "\n",
    "webpage.status_code"
   ]
  },
  {
   "cell_type": "code",
   "execution_count": 33,
   "id": "5ac9877c",
   "metadata": {},
   "outputs": [],
   "source": [
    "# get the content from the webpage, parse into html and give a structure to it using beautifulsoup\n",
    "\n",
    "soup = BeautifulSoup(webpage.content, 'html.parser')"
   ]
  },
  {
   "cell_type": "code",
   "execution_count": 60,
   "id": "0053239d",
   "metadata": {},
   "outputs": [],
   "source": [
    "# getting all div tags containing links\n",
    "\n",
    "links = soup.find_all('div', attrs={'class':'_9bea76df'})"
   ]
  },
  {
   "cell_type": "code",
   "execution_count": 63,
   "id": "7728d272",
   "metadata": {
    "scrolled": true
   },
   "outputs": [],
   "source": [
    "# getting all anchor tags containing links\n",
    "\n",
    "final_links = []\n",
    "for link in links:\n",
    "    final_links.append(link.find('a'))"
   ]
  },
  {
   "cell_type": "code",
   "execution_count": 70,
   "id": "c99c5d9e",
   "metadata": {},
   "outputs": [],
   "source": [
    "# getting final lnk of first item\n",
    "\n",
    "firstlink = final_links[1].get('href')"
   ]
  },
  {
   "cell_type": "code",
   "execution_count": 73,
   "id": "519bce7d",
   "metadata": {},
   "outputs": [],
   "source": [
    "# generating new url\n",
    "\n",
    "URL = 'https://www.olx.com.pk' + firstlink"
   ]
  },
  {
   "cell_type": "code",
   "execution_count": 78,
   "id": "51d9a855",
   "metadata": {},
   "outputs": [],
   "source": [
    "# again sending get request to this new url\n",
    "\n",
    "new_webpage = requests.get(URL, headers=HEADERS)"
   ]
  },
  {
   "cell_type": "code",
   "execution_count": 79,
   "id": "6e4be02f",
   "metadata": {},
   "outputs": [
    {
     "data": {
      "text/plain": [
       "200"
      ]
     },
     "execution_count": 79,
     "metadata": {},
     "output_type": "execute_result"
    }
   ],
   "source": [
    "new_webpage.status_code"
   ]
  },
  {
   "cell_type": "code",
   "execution_count": 80,
   "id": "f75a82cc",
   "metadata": {},
   "outputs": [],
   "source": [
    "# get the content from the webpage, parse into html and give a structure to it using beautifulsoup\n",
    "\n",
    "soup = BeautifulSoup(new_webpage.content, 'html.parser')"
   ]
  },
  {
   "cell_type": "code",
   "execution_count": 83,
   "id": "9bc74a46",
   "metadata": {},
   "outputs": [],
   "source": [
    "title = soup.find('h1', attrs={'class':'a38b8112'})\n",
    "title = title.text"
   ]
  },
  {
   "cell_type": "code",
   "execution_count": 84,
   "id": "bcbd58af",
   "metadata": {},
   "outputs": [
    {
     "data": {
      "text/plain": [
       "'yaris 1.3 ativ auto'"
      ]
     },
     "execution_count": 84,
     "metadata": {},
     "output_type": "execute_result"
    }
   ],
   "source": [
    "title"
   ]
  },
  {
   "cell_type": "code",
   "execution_count": 93,
   "id": "42e1dfd0",
   "metadata": {},
   "outputs": [],
   "source": [
    "data = soup.find_all('div', attrs={'class':'b44ca0b3'})"
   ]
  },
  {
   "cell_type": "code",
   "execution_count": 94,
   "id": "acd5593b",
   "metadata": {},
   "outputs": [],
   "source": [
    "new_data = []\n",
    "for d in data:\n",
    "    new_data.append(d.find_all('span'))"
   ]
  },
  {
   "cell_type": "code",
   "execution_count": 95,
   "id": "c2ac310b",
   "metadata": {},
   "outputs": [
    {
     "data": {
      "text/plain": [
       "[[<span>Make</span>, <span>Toyota</span>],\n",
       " [<span>Model</span>, <span>Yaris</span>],\n",
       " [<span>Year</span>, <span>2021</span>],\n",
       " [<span>KM's driven</span>, <span>14,750</span>],\n",
       " [<span>Price</span>, <span>4,500,000</span>],\n",
       " [<span>Fuel</span>, <span>Petrol</span>],\n",
       " [<span>Registration city</span>, <span>Lahore</span>],\n",
       " [<span>Car documents</span>, <span>Original</span>],\n",
       " [<span>Assembly</span>, <span>Local</span>],\n",
       " [<span>Transmission</span>, <span>Automatic</span>],\n",
       " [<span>Condition</span>, <span>Used</span>]]"
      ]
     },
     "execution_count": 95,
     "metadata": {},
     "output_type": "execute_result"
    }
   ],
   "source": [
    "new_data"
   ]
  },
  {
   "cell_type": "code",
   "execution_count": 103,
   "id": "700a3d15",
   "metadata": {},
   "outputs": [],
   "source": [
    "new_data[0][0].text"
   ]
  },
  {
   "cell_type": "code",
   "execution_count": 104,
   "id": "157d259f",
   "metadata": {},
   "outputs": [],
   "source": [
    "new_data[0][1].text"
   ]
  },
  {
   "cell_type": "code",
   "execution_count": 105,
   "id": "4ee37f8a",
   "metadata": {},
   "outputs": [],
   "source": [
    "my_dict = {}\n",
    "my_dict[new_data[0][0].text] = new_data[0][1].text"
   ]
  },
  {
   "cell_type": "code",
   "execution_count": 106,
   "id": "19942a9e",
   "metadata": {},
   "outputs": [
    {
     "data": {
      "text/plain": [
       "{'Make': 'Toyota'}"
      ]
     },
     "execution_count": 106,
     "metadata": {},
     "output_type": "execute_result"
    }
   ],
   "source": [
    "my_dict"
   ]
  }
 ],
 "metadata": {
  "kernelspec": {
   "display_name": "Python 3 (ipykernel)",
   "language": "python",
   "name": "python3"
  },
  "language_info": {
   "codemirror_mode": {
    "name": "ipython",
    "version": 3
   },
   "file_extension": ".py",
   "mimetype": "text/x-python",
   "name": "python",
   "nbconvert_exporter": "python",
   "pygments_lexer": "ipython3",
   "version": "3.10.4"
  }
 },
 "nbformat": 4,
 "nbformat_minor": 5
}
